{
  "cells": [
    {
      "cell_type": "markdown",
      "metadata": {
        "id": "3z8A8_RUacS4"
      },
      "source": [
        "Importing Important Libraries"
      ]
    },
    {
      "cell_type": "code",
      "execution_count": null,
      "metadata": {
        "colab": {
          "base_uri": "https://localhost:8080/"
        },
        "id": "VqdDL3Wg0RFm",
        "outputId": "75daba24-e71f-4c1f-9665-6a5cf91dc934"
      },
      "outputs": [
        {
          "output_type": "stream",
          "name": "stdout",
          "text": [
            "Collecting hmmlearn\n",
            "  Downloading hmmlearn-0.3.2-cp310-cp310-manylinux_2_17_x86_64.manylinux2014_x86_64.whl (161 kB)\n",
            "\u001b[?25l     \u001b[90m━━━━━━━━━━━━━━━━━━━━━━━━━━━━━━━━━━━━━━━━\u001b[0m \u001b[32m0.0/161.1 kB\u001b[0m \u001b[31m?\u001b[0m eta \u001b[36m-:--:--\u001b[0m\r\u001b[2K     \u001b[91m━━━━━━━━━━━━━━━━━\u001b[0m\u001b[91m╸\u001b[0m\u001b[90m━━━━━━━━━━━━━━━━━━━━━━\u001b[0m \u001b[32m71.7/161.1 kB\u001b[0m \u001b[31m1.9 MB/s\u001b[0m eta \u001b[36m0:00:01\u001b[0m\r\u001b[2K     \u001b[90m━━━━━━━━━━━━━━━━━━━━━━━━━━━━━━━━━━━━━━━━\u001b[0m \u001b[32m161.1/161.1 kB\u001b[0m \u001b[31m2.9 MB/s\u001b[0m eta \u001b[36m0:00:00\u001b[0m\n",
            "\u001b[?25hRequirement already satisfied: numpy>=1.10 in /usr/local/lib/python3.10/dist-packages (from hmmlearn) (1.25.2)\n",
            "Requirement already satisfied: scikit-learn!=0.22.0,>=0.16 in /usr/local/lib/python3.10/dist-packages (from hmmlearn) (1.2.2)\n",
            "Requirement already satisfied: scipy>=0.19 in /usr/local/lib/python3.10/dist-packages (from hmmlearn) (1.11.4)\n",
            "Requirement already satisfied: joblib>=1.1.1 in /usr/local/lib/python3.10/dist-packages (from scikit-learn!=0.22.0,>=0.16->hmmlearn) (1.4.2)\n",
            "Requirement already satisfied: threadpoolctl>=2.0.0 in /usr/local/lib/python3.10/dist-packages (from scikit-learn!=0.22.0,>=0.16->hmmlearn) (3.5.0)\n",
            "Installing collected packages: hmmlearn\n",
            "Successfully installed hmmlearn-0.3.2\n"
          ]
        }
      ],
      "source": [
        "!pip install hmmlearn\n",
        "import numpy as np\n",
        "import pandas as pd\n",
        "from hmmlearn import hmm\n"
      ]
    },
    {
      "cell_type": "markdown",
      "metadata": {
        "id": "NfID7uoDaisG"
      },
      "source": [
        "Loading and Refining The Data"
      ]
    },
    {
      "cell_type": "code",
      "execution_count": null,
      "metadata": {
        "id": "M0auwsGDaWOy",
        "colab": {
          "base_uri": "https://localhost:8080/",
          "height": 423
        },
        "outputId": "f4166644-47e6-4894-84b2-9ce458d9977b"
      },
      "outputs": [
        {
          "output_type": "execute_result",
          "data": {
            "text/plain": [
              "       Sensor 1  Sensor 2  Sensor 3  Sensor 4\n",
              "0          2.84      2.80      1159         9\n",
              "1          2.84      2.82      1159        10\n",
              "2          2.81      2.77      1159        10\n",
              "3          2.86      2.82      1159        10\n",
              "4          2.83      2.81      1159        10\n",
              "...         ...       ...       ...       ...\n",
              "18995      2.09      1.20      1001         8\n",
              "18996      2.09      1.20      1001         9\n",
              "18997      2.10      1.21      1001         8\n",
              "18998      2.10      1.21      1001         8\n",
              "18999      2.10      1.22      1001         8\n",
              "\n",
              "[19000 rows x 4 columns]"
            ],
            "text/html": [
              "\n",
              "  <div id=\"df-28bbebea-9b6b-470d-968f-893e971cb6f2\" class=\"colab-df-container\">\n",
              "    <div>\n",
              "<style scoped>\n",
              "    .dataframe tbody tr th:only-of-type {\n",
              "        vertical-align: middle;\n",
              "    }\n",
              "\n",
              "    .dataframe tbody tr th {\n",
              "        vertical-align: top;\n",
              "    }\n",
              "\n",
              "    .dataframe thead th {\n",
              "        text-align: right;\n",
              "    }\n",
              "</style>\n",
              "<table border=\"1\" class=\"dataframe\">\n",
              "  <thead>\n",
              "    <tr style=\"text-align: right;\">\n",
              "      <th></th>\n",
              "      <th>Sensor 1</th>\n",
              "      <th>Sensor 2</th>\n",
              "      <th>Sensor 3</th>\n",
              "      <th>Sensor 4</th>\n",
              "    </tr>\n",
              "  </thead>\n",
              "  <tbody>\n",
              "    <tr>\n",
              "      <th>0</th>\n",
              "      <td>2.84</td>\n",
              "      <td>2.80</td>\n",
              "      <td>1159</td>\n",
              "      <td>9</td>\n",
              "    </tr>\n",
              "    <tr>\n",
              "      <th>1</th>\n",
              "      <td>2.84</td>\n",
              "      <td>2.82</td>\n",
              "      <td>1159</td>\n",
              "      <td>10</td>\n",
              "    </tr>\n",
              "    <tr>\n",
              "      <th>2</th>\n",
              "      <td>2.81</td>\n",
              "      <td>2.77</td>\n",
              "      <td>1159</td>\n",
              "      <td>10</td>\n",
              "    </tr>\n",
              "    <tr>\n",
              "      <th>3</th>\n",
              "      <td>2.86</td>\n",
              "      <td>2.82</td>\n",
              "      <td>1159</td>\n",
              "      <td>10</td>\n",
              "    </tr>\n",
              "    <tr>\n",
              "      <th>4</th>\n",
              "      <td>2.83</td>\n",
              "      <td>2.81</td>\n",
              "      <td>1159</td>\n",
              "      <td>10</td>\n",
              "    </tr>\n",
              "    <tr>\n",
              "      <th>...</th>\n",
              "      <td>...</td>\n",
              "      <td>...</td>\n",
              "      <td>...</td>\n",
              "      <td>...</td>\n",
              "    </tr>\n",
              "    <tr>\n",
              "      <th>18995</th>\n",
              "      <td>2.09</td>\n",
              "      <td>1.20</td>\n",
              "      <td>1001</td>\n",
              "      <td>8</td>\n",
              "    </tr>\n",
              "    <tr>\n",
              "      <th>18996</th>\n",
              "      <td>2.09</td>\n",
              "      <td>1.20</td>\n",
              "      <td>1001</td>\n",
              "      <td>9</td>\n",
              "    </tr>\n",
              "    <tr>\n",
              "      <th>18997</th>\n",
              "      <td>2.10</td>\n",
              "      <td>1.21</td>\n",
              "      <td>1001</td>\n",
              "      <td>8</td>\n",
              "    </tr>\n",
              "    <tr>\n",
              "      <th>18998</th>\n",
              "      <td>2.10</td>\n",
              "      <td>1.21</td>\n",
              "      <td>1001</td>\n",
              "      <td>8</td>\n",
              "    </tr>\n",
              "    <tr>\n",
              "      <th>18999</th>\n",
              "      <td>2.10</td>\n",
              "      <td>1.22</td>\n",
              "      <td>1001</td>\n",
              "      <td>8</td>\n",
              "    </tr>\n",
              "  </tbody>\n",
              "</table>\n",
              "<p>19000 rows × 4 columns</p>\n",
              "</div>\n",
              "    <div class=\"colab-df-buttons\">\n",
              "\n",
              "  <div class=\"colab-df-container\">\n",
              "    <button class=\"colab-df-convert\" onclick=\"convertToInteractive('df-28bbebea-9b6b-470d-968f-893e971cb6f2')\"\n",
              "            title=\"Convert this dataframe to an interactive table.\"\n",
              "            style=\"display:none;\">\n",
              "\n",
              "  <svg xmlns=\"http://www.w3.org/2000/svg\" height=\"24px\" viewBox=\"0 -960 960 960\">\n",
              "    <path d=\"M120-120v-720h720v720H120Zm60-500h600v-160H180v160Zm220 220h160v-160H400v160Zm0 220h160v-160H400v160ZM180-400h160v-160H180v160Zm440 0h160v-160H620v160ZM180-180h160v-160H180v160Zm440 0h160v-160H620v160Z\"/>\n",
              "  </svg>\n",
              "    </button>\n",
              "\n",
              "  <style>\n",
              "    .colab-df-container {\n",
              "      display:flex;\n",
              "      gap: 12px;\n",
              "    }\n",
              "\n",
              "    .colab-df-convert {\n",
              "      background-color: #E8F0FE;\n",
              "      border: none;\n",
              "      border-radius: 50%;\n",
              "      cursor: pointer;\n",
              "      display: none;\n",
              "      fill: #1967D2;\n",
              "      height: 32px;\n",
              "      padding: 0 0 0 0;\n",
              "      width: 32px;\n",
              "    }\n",
              "\n",
              "    .colab-df-convert:hover {\n",
              "      background-color: #E2EBFA;\n",
              "      box-shadow: 0px 1px 2px rgba(60, 64, 67, 0.3), 0px 1px 3px 1px rgba(60, 64, 67, 0.15);\n",
              "      fill: #174EA6;\n",
              "    }\n",
              "\n",
              "    .colab-df-buttons div {\n",
              "      margin-bottom: 4px;\n",
              "    }\n",
              "\n",
              "    [theme=dark] .colab-df-convert {\n",
              "      background-color: #3B4455;\n",
              "      fill: #D2E3FC;\n",
              "    }\n",
              "\n",
              "    [theme=dark] .colab-df-convert:hover {\n",
              "      background-color: #434B5C;\n",
              "      box-shadow: 0px 1px 3px 1px rgba(0, 0, 0, 0.15);\n",
              "      filter: drop-shadow(0px 1px 2px rgba(0, 0, 0, 0.3));\n",
              "      fill: #FFFFFF;\n",
              "    }\n",
              "  </style>\n",
              "\n",
              "    <script>\n",
              "      const buttonEl =\n",
              "        document.querySelector('#df-28bbebea-9b6b-470d-968f-893e971cb6f2 button.colab-df-convert');\n",
              "      buttonEl.style.display =\n",
              "        google.colab.kernel.accessAllowed ? 'block' : 'none';\n",
              "\n",
              "      async function convertToInteractive(key) {\n",
              "        const element = document.querySelector('#df-28bbebea-9b6b-470d-968f-893e971cb6f2');\n",
              "        const dataTable =\n",
              "          await google.colab.kernel.invokeFunction('convertToInteractive',\n",
              "                                                    [key], {});\n",
              "        if (!dataTable) return;\n",
              "\n",
              "        const docLinkHtml = 'Like what you see? Visit the ' +\n",
              "          '<a target=\"_blank\" href=https://colab.research.google.com/notebooks/data_table.ipynb>data table notebook</a>'\n",
              "          + ' to learn more about interactive tables.';\n",
              "        element.innerHTML = '';\n",
              "        dataTable['output_type'] = 'display_data';\n",
              "        await google.colab.output.renderOutput(dataTable, element);\n",
              "        const docLink = document.createElement('div');\n",
              "        docLink.innerHTML = docLinkHtml;\n",
              "        element.appendChild(docLink);\n",
              "      }\n",
              "    </script>\n",
              "  </div>\n",
              "\n",
              "\n",
              "<div id=\"df-2f85f733-ac11-4772-9124-517eef3b09f4\">\n",
              "  <button class=\"colab-df-quickchart\" onclick=\"quickchart('df-2f85f733-ac11-4772-9124-517eef3b09f4')\"\n",
              "            title=\"Suggest charts\"\n",
              "            style=\"display:none;\">\n",
              "\n",
              "<svg xmlns=\"http://www.w3.org/2000/svg\" height=\"24px\"viewBox=\"0 0 24 24\"\n",
              "     width=\"24px\">\n",
              "    <g>\n",
              "        <path d=\"M19 3H5c-1.1 0-2 .9-2 2v14c0 1.1.9 2 2 2h14c1.1 0 2-.9 2-2V5c0-1.1-.9-2-2-2zM9 17H7v-7h2v7zm4 0h-2V7h2v10zm4 0h-2v-4h2v4z\"/>\n",
              "    </g>\n",
              "</svg>\n",
              "  </button>\n",
              "\n",
              "<style>\n",
              "  .colab-df-quickchart {\n",
              "      --bg-color: #E8F0FE;\n",
              "      --fill-color: #1967D2;\n",
              "      --hover-bg-color: #E2EBFA;\n",
              "      --hover-fill-color: #174EA6;\n",
              "      --disabled-fill-color: #AAA;\n",
              "      --disabled-bg-color: #DDD;\n",
              "  }\n",
              "\n",
              "  [theme=dark] .colab-df-quickchart {\n",
              "      --bg-color: #3B4455;\n",
              "      --fill-color: #D2E3FC;\n",
              "      --hover-bg-color: #434B5C;\n",
              "      --hover-fill-color: #FFFFFF;\n",
              "      --disabled-bg-color: #3B4455;\n",
              "      --disabled-fill-color: #666;\n",
              "  }\n",
              "\n",
              "  .colab-df-quickchart {\n",
              "    background-color: var(--bg-color);\n",
              "    border: none;\n",
              "    border-radius: 50%;\n",
              "    cursor: pointer;\n",
              "    display: none;\n",
              "    fill: var(--fill-color);\n",
              "    height: 32px;\n",
              "    padding: 0;\n",
              "    width: 32px;\n",
              "  }\n",
              "\n",
              "  .colab-df-quickchart:hover {\n",
              "    background-color: var(--hover-bg-color);\n",
              "    box-shadow: 0 1px 2px rgba(60, 64, 67, 0.3), 0 1px 3px 1px rgba(60, 64, 67, 0.15);\n",
              "    fill: var(--button-hover-fill-color);\n",
              "  }\n",
              "\n",
              "  .colab-df-quickchart-complete:disabled,\n",
              "  .colab-df-quickchart-complete:disabled:hover {\n",
              "    background-color: var(--disabled-bg-color);\n",
              "    fill: var(--disabled-fill-color);\n",
              "    box-shadow: none;\n",
              "  }\n",
              "\n",
              "  .colab-df-spinner {\n",
              "    border: 2px solid var(--fill-color);\n",
              "    border-color: transparent;\n",
              "    border-bottom-color: var(--fill-color);\n",
              "    animation:\n",
              "      spin 1s steps(1) infinite;\n",
              "  }\n",
              "\n",
              "  @keyframes spin {\n",
              "    0% {\n",
              "      border-color: transparent;\n",
              "      border-bottom-color: var(--fill-color);\n",
              "      border-left-color: var(--fill-color);\n",
              "    }\n",
              "    20% {\n",
              "      border-color: transparent;\n",
              "      border-left-color: var(--fill-color);\n",
              "      border-top-color: var(--fill-color);\n",
              "    }\n",
              "    30% {\n",
              "      border-color: transparent;\n",
              "      border-left-color: var(--fill-color);\n",
              "      border-top-color: var(--fill-color);\n",
              "      border-right-color: var(--fill-color);\n",
              "    }\n",
              "    40% {\n",
              "      border-color: transparent;\n",
              "      border-right-color: var(--fill-color);\n",
              "      border-top-color: var(--fill-color);\n",
              "    }\n",
              "    60% {\n",
              "      border-color: transparent;\n",
              "      border-right-color: var(--fill-color);\n",
              "    }\n",
              "    80% {\n",
              "      border-color: transparent;\n",
              "      border-right-color: var(--fill-color);\n",
              "      border-bottom-color: var(--fill-color);\n",
              "    }\n",
              "    90% {\n",
              "      border-color: transparent;\n",
              "      border-bottom-color: var(--fill-color);\n",
              "    }\n",
              "  }\n",
              "</style>\n",
              "\n",
              "  <script>\n",
              "    async function quickchart(key) {\n",
              "      const quickchartButtonEl =\n",
              "        document.querySelector('#' + key + ' button');\n",
              "      quickchartButtonEl.disabled = true;  // To prevent multiple clicks.\n",
              "      quickchartButtonEl.classList.add('colab-df-spinner');\n",
              "      try {\n",
              "        const charts = await google.colab.kernel.invokeFunction(\n",
              "            'suggestCharts', [key], {});\n",
              "      } catch (error) {\n",
              "        console.error('Error during call to suggestCharts:', error);\n",
              "      }\n",
              "      quickchartButtonEl.classList.remove('colab-df-spinner');\n",
              "      quickchartButtonEl.classList.add('colab-df-quickchart-complete');\n",
              "    }\n",
              "    (() => {\n",
              "      let quickchartButtonEl =\n",
              "        document.querySelector('#df-2f85f733-ac11-4772-9124-517eef3b09f4 button');\n",
              "      quickchartButtonEl.style.display =\n",
              "        google.colab.kernel.accessAllowed ? 'block' : 'none';\n",
              "    })();\n",
              "  </script>\n",
              "</div>\n",
              "\n",
              "  <div id=\"id_c7679261-595c-418a-939b-b49e57f652cc\">\n",
              "    <style>\n",
              "      .colab-df-generate {\n",
              "        background-color: #E8F0FE;\n",
              "        border: none;\n",
              "        border-radius: 50%;\n",
              "        cursor: pointer;\n",
              "        display: none;\n",
              "        fill: #1967D2;\n",
              "        height: 32px;\n",
              "        padding: 0 0 0 0;\n",
              "        width: 32px;\n",
              "      }\n",
              "\n",
              "      .colab-df-generate:hover {\n",
              "        background-color: #E2EBFA;\n",
              "        box-shadow: 0px 1px 2px rgba(60, 64, 67, 0.3), 0px 1px 3px 1px rgba(60, 64, 67, 0.15);\n",
              "        fill: #174EA6;\n",
              "      }\n",
              "\n",
              "      [theme=dark] .colab-df-generate {\n",
              "        background-color: #3B4455;\n",
              "        fill: #D2E3FC;\n",
              "      }\n",
              "\n",
              "      [theme=dark] .colab-df-generate:hover {\n",
              "        background-color: #434B5C;\n",
              "        box-shadow: 0px 1px 3px 1px rgba(0, 0, 0, 0.15);\n",
              "        filter: drop-shadow(0px 1px 2px rgba(0, 0, 0, 0.3));\n",
              "        fill: #FFFFFF;\n",
              "      }\n",
              "    </style>\n",
              "    <button class=\"colab-df-generate\" onclick=\"generateWithVariable('df1')\"\n",
              "            title=\"Generate code using this dataframe.\"\n",
              "            style=\"display:none;\">\n",
              "\n",
              "  <svg xmlns=\"http://www.w3.org/2000/svg\" height=\"24px\"viewBox=\"0 0 24 24\"\n",
              "       width=\"24px\">\n",
              "    <path d=\"M7,19H8.4L18.45,9,17,7.55,7,17.6ZM5,21V16.75L18.45,3.32a2,2,0,0,1,2.83,0l1.4,1.43a1.91,1.91,0,0,1,.58,1.4,1.91,1.91,0,0,1-.58,1.4L9.25,21ZM18.45,9,17,7.55Zm-12,3A5.31,5.31,0,0,0,4.9,8.1,5.31,5.31,0,0,0,1,6.5,5.31,5.31,0,0,0,4.9,4.9,5.31,5.31,0,0,0,6.5,1,5.31,5.31,0,0,0,8.1,4.9,5.31,5.31,0,0,0,12,6.5,5.46,5.46,0,0,0,6.5,12Z\"/>\n",
              "  </svg>\n",
              "    </button>\n",
              "    <script>\n",
              "      (() => {\n",
              "      const buttonEl =\n",
              "        document.querySelector('#id_c7679261-595c-418a-939b-b49e57f652cc button.colab-df-generate');\n",
              "      buttonEl.style.display =\n",
              "        google.colab.kernel.accessAllowed ? 'block' : 'none';\n",
              "\n",
              "      buttonEl.onclick = () => {\n",
              "        google.colab.notebook.generateWithVariable('df1');\n",
              "      }\n",
              "      })();\n",
              "    </script>\n",
              "  </div>\n",
              "\n",
              "    </div>\n",
              "  </div>\n"
            ],
            "application/vnd.google.colaboratory.intrinsic+json": {
              "type": "dataframe",
              "variable_name": "df1",
              "summary": "{\n  \"name\": \"df1\",\n  \"rows\": 19000,\n  \"fields\": [\n    {\n      \"column\": \"Sensor 1\",\n      \"properties\": {\n        \"dtype\": \"number\",\n        \"std\": 0.32140454374508076,\n        \"min\": 1.54,\n        \"max\": 8.82,\n        \"num_unique_values\": 146,\n        \"samples\": [\n          3.49,\n          4.66,\n          3.17\n        ],\n        \"semantic_type\": \"\",\n        \"description\": \"\"\n      }\n    },\n    {\n      \"column\": \"Sensor 2\",\n      \"properties\": {\n        \"dtype\": \"number\",\n        \"std\": 0.3658516247495675,\n        \"min\": 1.19,\n        \"max\": 3.79,\n        \"num_unique_values\": 145,\n        \"samples\": [\n          3.72,\n          1.21,\n          3.02\n        ],\n        \"semantic_type\": \"\",\n        \"description\": \"\"\n      }\n    },\n    {\n      \"column\": \"Sensor 3\",\n      \"properties\": {\n        \"dtype\": \"number\",\n        \"std\": 40,\n        \"min\": 605,\n        \"max\": 1261,\n        \"num_unique_values\": 26,\n        \"samples\": [\n          1108,\n          1158,\n          1159\n        ],\n        \"semantic_type\": \"\",\n        \"description\": \"\"\n      }\n    },\n    {\n      \"column\": \"Sensor 4\",\n      \"properties\": {\n        \"dtype\": \"number\",\n        \"std\": 0,\n        \"min\": 7,\n        \"max\": 13,\n        \"num_unique_values\": 7,\n        \"samples\": [\n          9,\n          10,\n          8\n        ],\n        \"semantic_type\": \"\",\n        \"description\": \"\"\n      }\n    }\n  ]\n}"
            }
          },
          "metadata": {},
          "execution_count": 2
        }
      ],
      "source": [
        "df1 = pd.read_csv('max_data.csv')\n",
        "df1 = df1.drop(columns=['Timestamp'])\n",
        "df1"
      ]
    },
    {
      "cell_type": "code",
      "execution_count": null,
      "metadata": {
        "id": "BiQwqX5Daz9Y"
      },
      "outputs": [],
      "source": [
        "X = df1.to_numpy()"
      ]
    },
    {
      "cell_type": "code",
      "source": [
        "lengths= [100 for i in range(10)]"
      ],
      "metadata": {
        "id": "ERI_ApMDjhaW"
      },
      "execution_count": null,
      "outputs": []
    },
    {
      "cell_type": "code",
      "source": [
        "model1 = hmm.GaussianHMM(n_components=4, covariance_type='diag', min_covar=0.001, startprob_prior=10, transmat_prior=10, means_prior= 0 , means_weight= 0, covars_prior=0.01, covars_weight=1, algorithm='viterbi', random_state=None, n_iter=10, tol=0.01, verbose= True , params='stmc', init_params='stmc', implementation='log')"
      ],
      "metadata": {
        "id": "is6lyXnBmXMG"
      },
      "execution_count": null,
      "outputs": []
    },
    {
      "cell_type": "code",
      "source": [
        "models = [0]*20"
      ],
      "metadata": {
        "id": "d-H9dFh2YF7L"
      },
      "execution_count": null,
      "outputs": []
    },
    {
      "cell_type": "code",
      "source": [
        "threshold_multiplier = 2\n",
        "j = 0\n",
        "l = [0]\n",
        "num_segments = 190\n",
        "m = 0\n",
        "while (j < num_segments):\n",
        "    # Fit the model on the current batch of data\n",
        "\n",
        "    start_idx = 100 * j\n",
        "    end_idx = 100 * (j + 10)\n",
        "    if (end_idx > (num_segments* 100)):\n",
        "        end_idx = num_segments * 100\n",
        "    print(\"Start index = \",start_idx,\"end index = \", end_idx)\n",
        "    lengths = [100] * ((end_idx - start_idx)//100)\n",
        "    models[m] = hmm.GaussianHMM(n_components=8, covariance_type='diag', min_covar=0.001, startprob_prior=10, transmat_prior=10, means_prior= 0 , means_weight= 0, covars_prior=0.01, covars_weight=1, algorithm='viterbi', random_state=None, n_iter=10, tol=0.01, verbose= True , params='stmc', init_params='stmc', implementation='log')\n",
        "    models[m].fit(X[start_idx:end_idx, 0:4], lengths=lengths)\n",
        "\n",
        "    # Score the sequences and calculate the threshold\n",
        "    tr = []\n",
        "    tr = [models[m].score(X[100 * k:100 * (k + 1), 0:4]) for k in range((start_idx//100),(end_idx//100))]\n",
        "\n",
        "    mu = np.mean(tr)\n",
        "    sigma = np.std(tr)\n",
        "    threshold = mu - threshold_multiplier * sigma\n",
        "    print(\"threshold = \", threshold)\n",
        "    # Find the next starting index that meets the threshold condition\n",
        "    j+=10\n",
        "    #print(\"j = \",j)\n",
        "\n",
        "    ck = []\n",
        "    ck = [models[m].score(X[100*k : 100 * (k+1), 0:4]) for k in range(j,num_segments)]\n",
        "\n",
        "    found = False\n",
        "    for i in range(0, num_segments-j):\n",
        "        #print(\"i = \",i)\n",
        "        if ck[i] > threshold:\n",
        "            j = i + j\n",
        "            found = True\n",
        "            print(\"j = \", j)\n",
        "            break\n",
        "\n",
        "    if not found:\n",
        "        j = num_segments\n",
        "        l.append(j)\n",
        "        break\n",
        "\n",
        "\n",
        "    l.append(j)\n",
        "    m+=1\n"
      ],
      "metadata": {
        "colab": {
          "base_uri": "https://localhost:8080/"
        },
        "id": "1yrRi3Y8WMw_",
        "outputId": "80a54bc1-f2f5-46e5-87ec-c80478f38dd6"
      },
      "execution_count": null,
      "outputs": [
        {
          "output_type": "stream",
          "name": "stdout",
          "text": [
            "Start index =  0 end index =  1000\n"
          ]
        },
        {
          "output_type": "stream",
          "name": "stderr",
          "text": [
            "         1    3474.14971997             +nan\n",
            "         2    7112.77544016   +3638.62572020\n",
            "         3   11649.85805380   +4537.08261364\n",
            "         4   12491.22756572    +841.36951192\n",
            "         5   12618.11679410    +126.88922838\n",
            "         6   12736.27677911    +118.15998501\n",
            "         7   12810.36524971     +74.08847060\n",
            "         8   12828.26270566     +17.89745595\n",
            "         9   12830.02269473      +1.75998907\n",
            "        10   12830.47128224      +0.44858750\n"
          ]
        },
        {
          "output_type": "stream",
          "name": "stdout",
          "text": [
            "threshold =  1118.394798295723\n",
            "j =  10\n",
            "Start index =  1000 end index =  2000\n"
          ]
        },
        {
          "output_type": "stream",
          "name": "stderr",
          "text": [
            "         1    3379.81671939             +nan\n",
            "         2    8233.61413499   +4853.79741560\n",
            "         3   11312.41771930   +3078.80358430\n",
            "         4   12007.42913663    +695.01141733\n",
            "         5   12158.67519616    +151.24605953\n",
            "         6   12289.78134295    +131.10614679\n",
            "         7   12407.14998179    +117.36863883\n",
            "         8   12468.80113411     +61.65115232\n",
            "         9   12471.63135318      +2.83021907\n",
            "        10   12471.61754595      -0.01380723\n",
            "WARNING:hmmlearn.base:Model is not converging.  Current: 12471.617545948968 is not greater than 12471.631353176208. Delta is -0.013807227240249631\n",
            "         1     518.85059756             +nan\n",
            "         2    8051.90839122   +7533.05779366\n"
          ]
        },
        {
          "output_type": "stream",
          "name": "stdout",
          "text": [
            "threshold =  1108.0388718984195\n",
            "j =  20\n",
            "Start index =  2000 end index =  3000\n",
            "threshold =  918.7418657959788\n"
          ]
        },
        {
          "output_type": "stream",
          "name": "stderr",
          "text": [
            "         3    8386.57900761    +334.67061639\n",
            "         4    8445.94130111     +59.36229350\n",
            "         5    8471.27573505     +25.33443393\n",
            "         6    8495.29421767     +24.01848263\n",
            "         7    8521.11373642     +25.81951875\n",
            "         8    8587.34329266     +66.22955624\n",
            "         9    8963.62863214    +376.28533948\n",
            "        10   10004.11686846   +1040.48823632\n"
          ]
        }
      ]
    },
    {
      "cell_type": "code",
      "source": [
        "l"
      ],
      "metadata": {
        "colab": {
          "base_uri": "https://localhost:8080/"
        },
        "id": "rNRV1hbUcihz",
        "outputId": "89d6da42-73f2-4ad6-fed2-0625c3cf4ed7"
      },
      "execution_count": null,
      "outputs": [
        {
          "output_type": "execute_result",
          "data": {
            "text/plain": [
              "[0, 10, 20, 190]"
            ]
          },
          "metadata": {},
          "execution_count": 33
        }
      ]
    },
    {
      "cell_type": "code",
      "source": [
        "ck"
      ],
      "metadata": {
        "colab": {
          "base_uri": "https://localhost:8080/"
        },
        "id": "6BmaKCQ34oAt",
        "outputId": "4a1135ac-982d-4d47-fcbb-5026af499356"
      },
      "execution_count": null,
      "outputs": [
        {
          "output_type": "execute_result",
          "data": {
            "text/plain": [
              "[]"
            ]
          },
          "metadata": {},
          "execution_count": 16
        }
      ]
    },
    {
      "cell_type": "code",
      "source": [
        "models"
      ],
      "metadata": {
        "colab": {
          "base_uri": "https://localhost:8080/"
        },
        "id": "-E4JxgvBZUMM",
        "outputId": "14360674-a4a4-49d5-feb0-06927b83a608"
      },
      "execution_count": null,
      "outputs": [
        {
          "output_type": "execute_result",
          "data": {
            "text/plain": [
              "[GaussianHMM(n_components=2, startprob_prior=10, transmat_prior=10, verbose=True),\n",
              " GaussianHMM(n_components=2, startprob_prior=10, transmat_prior=10, verbose=True),\n",
              " GaussianHMM(n_components=2, startprob_prior=10, transmat_prior=10, verbose=True),\n",
              " GaussianHMM(n_components=2, startprob_prior=10, transmat_prior=10, verbose=True),\n",
              " GaussianHMM(n_components=2, startprob_prior=10, transmat_prior=10, verbose=True),\n",
              " GaussianHMM(n_components=2, startprob_prior=10, transmat_prior=10, verbose=True),\n",
              " GaussianHMM(n_components=2, startprob_prior=10, transmat_prior=10, verbose=True),\n",
              " GaussianHMM(n_components=2, startprob_prior=10, transmat_prior=10, verbose=True),\n",
              " GaussianHMM(n_components=2, startprob_prior=10, transmat_prior=10, verbose=True),\n",
              " GaussianHMM(n_components=2, startprob_prior=10, transmat_prior=10, verbose=True),\n",
              " GaussianHMM(n_components=2, startprob_prior=10, transmat_prior=10, verbose=True),\n",
              " GaussianHMM(n_components=2, startprob_prior=10, transmat_prior=10, verbose=True),\n",
              " GaussianHMM(n_components=2, startprob_prior=10, transmat_prior=10, verbose=True),\n",
              " 0,\n",
              " 0,\n",
              " 0,\n",
              " 0,\n",
              " 0,\n",
              " 0,\n",
              " 0]"
            ]
          },
          "metadata": {},
          "execution_count": 23
        }
      ]
    },
    {
      "cell_type": "code",
      "source": [
        "model.fit(X[0:1000,0:2],lengths= lengths)"
      ],
      "metadata": {
        "colab": {
          "base_uri": "https://localhost:8080/",
          "height": 248
        },
        "id": "xjNW22NhjKNS",
        "outputId": "8bb340b3-4332-4921-c2d7-515b7faec311"
      },
      "execution_count": null,
      "outputs": [
        {
          "output_type": "stream",
          "name": "stderr",
          "text": [
            "         1    4023.73677128             +nan\n",
            "         2    4494.72831909    +470.99154781\n",
            "         3    4499.83336038      +5.10504129\n",
            "         4    4503.22775219      +3.39439181\n",
            "         5    4506.05360074      +2.82584856\n",
            "         6    4508.71266660      +2.65906586\n",
            "         7    4511.42041697      +2.70775037\n",
            "         8    4514.34638931      +2.92597234\n",
            "         9    4517.67600578      +3.32961647\n",
            "        10    4521.66301465      +3.98700887\n"
          ]
        },
        {
          "output_type": "execute_result",
          "data": {
            "text/plain": [
              "GaussianHMM(n_components=2, startprob_prior=10, transmat_prior=10, verbose=True)"
            ],
            "text/html": [
              "<style>#sk-container-id-1 {color: black;background-color: white;}#sk-container-id-1 pre{padding: 0;}#sk-container-id-1 div.sk-toggleable {background-color: white;}#sk-container-id-1 label.sk-toggleable__label {cursor: pointer;display: block;width: 100%;margin-bottom: 0;padding: 0.3em;box-sizing: border-box;text-align: center;}#sk-container-id-1 label.sk-toggleable__label-arrow:before {content: \"▸\";float: left;margin-right: 0.25em;color: #696969;}#sk-container-id-1 label.sk-toggleable__label-arrow:hover:before {color: black;}#sk-container-id-1 div.sk-estimator:hover label.sk-toggleable__label-arrow:before {color: black;}#sk-container-id-1 div.sk-toggleable__content {max-height: 0;max-width: 0;overflow: hidden;text-align: left;background-color: #f0f8ff;}#sk-container-id-1 div.sk-toggleable__content pre {margin: 0.2em;color: black;border-radius: 0.25em;background-color: #f0f8ff;}#sk-container-id-1 input.sk-toggleable__control:checked~div.sk-toggleable__content {max-height: 200px;max-width: 100%;overflow: auto;}#sk-container-id-1 input.sk-toggleable__control:checked~label.sk-toggleable__label-arrow:before {content: \"▾\";}#sk-container-id-1 div.sk-estimator input.sk-toggleable__control:checked~label.sk-toggleable__label {background-color: #d4ebff;}#sk-container-id-1 div.sk-label input.sk-toggleable__control:checked~label.sk-toggleable__label {background-color: #d4ebff;}#sk-container-id-1 input.sk-hidden--visually {border: 0;clip: rect(1px 1px 1px 1px);clip: rect(1px, 1px, 1px, 1px);height: 1px;margin: -1px;overflow: hidden;padding: 0;position: absolute;width: 1px;}#sk-container-id-1 div.sk-estimator {font-family: monospace;background-color: #f0f8ff;border: 1px dotted black;border-radius: 0.25em;box-sizing: border-box;margin-bottom: 0.5em;}#sk-container-id-1 div.sk-estimator:hover {background-color: #d4ebff;}#sk-container-id-1 div.sk-parallel-item::after {content: \"\";width: 100%;border-bottom: 1px solid gray;flex-grow: 1;}#sk-container-id-1 div.sk-label:hover label.sk-toggleable__label {background-color: #d4ebff;}#sk-container-id-1 div.sk-serial::before {content: \"\";position: absolute;border-left: 1px solid gray;box-sizing: border-box;top: 0;bottom: 0;left: 50%;z-index: 0;}#sk-container-id-1 div.sk-serial {display: flex;flex-direction: column;align-items: center;background-color: white;padding-right: 0.2em;padding-left: 0.2em;position: relative;}#sk-container-id-1 div.sk-item {position: relative;z-index: 1;}#sk-container-id-1 div.sk-parallel {display: flex;align-items: stretch;justify-content: center;background-color: white;position: relative;}#sk-container-id-1 div.sk-item::before, #sk-container-id-1 div.sk-parallel-item::before {content: \"\";position: absolute;border-left: 1px solid gray;box-sizing: border-box;top: 0;bottom: 0;left: 50%;z-index: -1;}#sk-container-id-1 div.sk-parallel-item {display: flex;flex-direction: column;z-index: 1;position: relative;background-color: white;}#sk-container-id-1 div.sk-parallel-item:first-child::after {align-self: flex-end;width: 50%;}#sk-container-id-1 div.sk-parallel-item:last-child::after {align-self: flex-start;width: 50%;}#sk-container-id-1 div.sk-parallel-item:only-child::after {width: 0;}#sk-container-id-1 div.sk-dashed-wrapped {border: 1px dashed gray;margin: 0 0.4em 0.5em 0.4em;box-sizing: border-box;padding-bottom: 0.4em;background-color: white;}#sk-container-id-1 div.sk-label label {font-family: monospace;font-weight: bold;display: inline-block;line-height: 1.2em;}#sk-container-id-1 div.sk-label-container {text-align: center;}#sk-container-id-1 div.sk-container {/* jupyter's `normalize.less` sets `[hidden] { display: none; }` but bootstrap.min.css set `[hidden] { display: none !important; }` so we also need the `!important` here to be able to override the default hidden behavior on the sphinx rendered scikit-learn.org. See: https://github.com/scikit-learn/scikit-learn/issues/21755 */display: inline-block !important;position: relative;}#sk-container-id-1 div.sk-text-repr-fallback {display: none;}</style><div id=\"sk-container-id-1\" class=\"sk-top-container\"><div class=\"sk-text-repr-fallback\"><pre>GaussianHMM(n_components=2, startprob_prior=10, transmat_prior=10, verbose=True)</pre><b>In a Jupyter environment, please rerun this cell to show the HTML representation or trust the notebook. <br />On GitHub, the HTML representation is unable to render, please try loading this page with nbviewer.org.</b></div><div class=\"sk-container\" hidden><div class=\"sk-item\"><div class=\"sk-estimator sk-toggleable\"><input class=\"sk-toggleable__control sk-hidden--visually\" id=\"sk-estimator-id-1\" type=\"checkbox\" checked><label for=\"sk-estimator-id-1\" class=\"sk-toggleable__label sk-toggleable__label-arrow\">GaussianHMM</label><div class=\"sk-toggleable__content\"><pre>GaussianHMM(n_components=2, startprob_prior=10, transmat_prior=10, verbose=True)</pre></div></div></div></div></div>"
            ]
          },
          "metadata": {},
          "execution_count": 10
        }
      ]
    },
    {
      "cell_type": "code",
      "source": [
        "Y= X[1000:2000, 0:2]\n",
        "vkc = []\n",
        "dv c"
      ],
      "metadata": {
        "id": "zCkSwGaysR0_"
      },
      "execution_count": null,
      "outputs": []
    },
    {
      "cell_type": "code",
      "source": [
        "vkc"
      ],
      "metadata": {
        "colab": {
          "base_uri": "https://localhost:8080/"
        },
        "id": "Paq7cDD9veF6",
        "outputId": "dd8be2f6-72a7-4b4e-b543-6e42d2413b3b"
      },
      "execution_count": null,
      "outputs": [
        {
          "output_type": "execute_result",
          "data": {
            "text/plain": [
              "[393.2286358106683,\n",
              " 460.8652978657061,\n",
              " 480.63431643722356,\n",
              " 425.23373710625003,\n",
              " 457.531798818,\n",
              " 476.3250124815225,\n",
              " 419.8814194863309,\n",
              " 490.9753911849834,\n",
              " 467.69158874638566,\n",
              " 454.34133353166,\n",
              " 257.8974492815451,\n",
              " 402.4501181989416,\n",
              " 459.3534827049552,\n",
              " 327.1464778439341,\n",
              " 285.4489551646216,\n",
              " 342.0518979517482,\n",
              " 401.95808664682005,\n",
              " 433.33485022041873,\n",
              " 406.3285227952021,\n",
              " 311.4886856196991,\n",
              " 325.1046968137938,\n",
              " 402.9382602195362,\n",
              " 318.84210570278645,\n",
              " 362.46854532654413,\n",
              " 253.14432882532986,\n",
              " 362.0519385449975,\n",
              " 297.7661688046047,\n",
              " 232.05288702659226,\n",
              " 484.0363771721478,\n",
              " 392.81378363775957,\n",
              " -2749.190113095032,\n",
              " 396.8936633372836,\n",
              " 366.89617093238263,\n",
              " 262.7711773018773,\n",
              " -156.94189665105898,\n",
              " 206.04684400033423,\n",
              " 232.1621557885322,\n",
              " 203.62639362077712,\n",
              " 174.7764643766841,\n",
              " 198.05574441774957,\n",
              " 182.82436418915984,\n",
              " -31.10766745779706,\n",
              " 222.78583782927825,\n",
              " 311.0815620101333,\n",
              " 411.8654386723333,\n",
              " 427.09951228044304,\n",
              " 374.17054706067677,\n",
              " 339.02324719151784,\n",
              " 385.9624912112983,\n",
              " 263.93138114823705,\n",
              " 14.821384942184663,\n",
              " 144.35396624997222,\n",
              " 102.67022023716544,\n",
              " 167.74005915308126,\n",
              " 317.7492070586918,\n",
              " 316.337947343471,\n",
              " 338.28910302586354,\n",
              " 337.5795293608363,\n",
              " 378.4313463990008,\n",
              " 356.6354686581812,\n",
              " 158.6157011391126,\n",
              " 203.5482676149677,\n",
              " 249.23075890813053,\n",
              " 246.57816378338768,\n",
              " 209.72044470376028,\n",
              " 168.62463869198461,\n",
              " 116.95237903755061,\n",
              " 310.2746662314212,\n",
              " 372.2439729288156,\n",
              " 297.77110679715236,\n",
              " 349.9052447359325,\n",
              " 307.55936372119436,\n",
              " -5550.696439304408,\n",
              " 193.75700251882898,\n",
              " 256.94298445117516,\n",
              " 163.52133803882327,\n",
              " 144.84654327420765,\n",
              " 173.12304592655505,\n",
              " 182.26976923763124,\n",
              " -140.97335605479964,\n",
              " -272.7606841344356,\n",
              " -2533.6372997355884,\n",
              " 265.93543237663556,\n",
              " -1236.2383198178466,\n",
              " -27017.26028433817,\n",
              " -624.797418911029,\n",
              " 454.5791093731964,\n",
              " 118.63513952952091,\n",
              " 261.9803672478582,\n",
              " 268.41002865904983,\n",
              " -221.53994254720172,\n",
              " -863.1113890061642,\n",
              " -530.2990521627488,\n",
              " -19.015444972355454,\n",
              " 35.97487651390896,\n",
              " -764.0832306262048,\n",
              " -571.5981049204859,\n",
              " -707.44319710684,\n",
              " -1198.212732839732,\n",
              " -1434.4704912953553,\n",
              " -1175.4732534410812,\n",
              " -2297.771977397747,\n",
              " -1318.5226490705757,\n",
              " -868.7895132624953,\n",
              " -1034.6247791928351,\n",
              " -10772.520271887572,\n",
              " -1533.7849977893877,\n",
              " -5320.680062026935,\n",
              " -1321.5040358668978,\n",
              " -1887.3933998697348,\n",
              " -1189.1321763906499,\n",
              " -1561.0870215382936,\n",
              " -2291.478867499111,\n",
              " -1598.0146909151222,\n",
              " -1114.6331369603035,\n",
              " -17.006695679989015,\n",
              " 9.10122508646311,\n",
              " -866.9393853421324,\n",
              " 245.02463501447627,\n",
              " 219.39656735764544,\n",
              " 230.20580964674568,\n",
              " 108.39252838734072,\n",
              " 242.01774039548178,\n",
              " 371.6408521049462,\n",
              " 308.9433665440717,\n",
              " 343.951208713064,\n",
              " 135.29668727254275,\n",
              " -169.5605983757624,\n",
              " -361.38858661645327,\n",
              " -597.0409989347979,\n",
              " -358.15048673927697,\n",
              " 244.2666736638503,\n",
              " 230.78971918972098,\n",
              " -63.96187814225511,\n",
              " -32.1034401478281,\n",
              " 213.92627497977145,\n",
              " 385.39613376075073,\n",
              " 168.03125110325402,\n",
              " -1539.4944942415461,\n",
              " -38.49395559274196,\n",
              " -1040.9499780298488,\n",
              " 376.79727455474307,\n",
              " 295.1587232127362,\n",
              " 141.89236528739798,\n",
              " 325.0103619559007,\n",
              " 369.9127267734037,\n",
              " 417.89938874242847,\n",
              " 281.98560491681735,\n",
              " 293.3944125850614,\n",
              " 139.09122989888277,\n",
              " 390.31465790776815,\n",
              " 194.31754486519085,\n",
              " 298.6004884848618,\n",
              " 233.55827288484974,\n",
              " 322.42386748358024,\n",
              " 377.0517400968972,\n",
              " 373.11486487174807,\n",
              " 384.6366738664616,\n",
              " 454.714960783205,\n",
              " 349.9447288466261,\n",
              " 134.03109080739682,\n",
              " 374.15230993465053,\n",
              " 392.2183456190765,\n",
              " 395.99813756540067,\n",
              " 390.74509746407614,\n",
              " 92.19736596813215,\n",
              " 336.1089952733935,\n",
              " 343.48617580230183,\n",
              " 327.03331580030436,\n",
              " 315.28846803628505,\n",
              " -3425.4936744198326,\n",
              " 409.3049875077126,\n",
              " 406.01039949178727,\n",
              " -34186.492639375145,\n",
              " -187386.86486055877,\n",
              " -187200.25668548682,\n",
              " -189340.26032033746,\n",
              " -189967.31565071715,\n",
              " -191739.22576932178,\n",
              " -190508.22892797863,\n",
              " -187310.08067764627,\n",
              " -184193.8741222776,\n",
              " -173250.31000653564,\n",
              " -173271.37579871574,\n",
              " -155948.41606871478,\n",
              " -151198.55693760468,\n",
              " -142939.93136187427,\n",
              " -151597.33305412973,\n",
              " -166847.74312885423,\n",
              " -142799.36382041653]"
            ]
          },
          "metadata": {},
          "execution_count": 12
        }
      ]
    },
    {
      "cell_type": "code",
      "source": [
        "log_likelihoods = model.predict(Y)\n"
      ],
      "metadata": {
        "id": "N6f1reo0lLsU"
      },
      "execution_count": null,
      "outputs": []
    },
    {
      "cell_type": "code",
      "source": [
        "log_likelihoods = model.score(Y)"
      ],
      "metadata": {
        "id": "1p7770h8sm9h"
      },
      "execution_count": null,
      "outputs": []
    },
    {
      "cell_type": "code",
      "source": [
        "log_likelihoods"
      ],
      "metadata": {
        "colab": {
          "base_uri": "https://localhost:8080/"
        },
        "id": "r_ywv0jCsypp",
        "outputId": "775c2fe5-1c31-49d2-ef8f-15eb3343cb03"
      },
      "execution_count": null,
      "outputs": [
        {
          "output_type": "execute_result",
          "data": {
            "text/plain": [
              "3627.3016634683745"
            ]
          },
          "metadata": {},
          "execution_count": 15
        }
      ]
    },
    {
      "cell_type": "code",
      "source": [
        "mu = np.mean(vkc[0:10])\n",
        "sigma = np.std(vkc[0:10])"
      ],
      "metadata": {
        "id": "fVHm36OaxDnx"
      },
      "execution_count": null,
      "outputs": []
    },
    {
      "cell_type": "code",
      "source": [
        "#initializing k\n",
        "k = 2"
      ],
      "metadata": {
        "id": "uKjfhoSYUmUL"
      },
      "execution_count": null,
      "outputs": []
    },
    {
      "cell_type": "code",
      "source": [
        "threshold = mu - k * sigma"
      ],
      "metadata": {
        "id": "bKMNiORBUtTB"
      },
      "execution_count": null,
      "outputs": []
    },
    {
      "cell_type": "code",
      "source": [
        "threshold"
      ],
      "metadata": {
        "colab": {
          "base_uri": "https://localhost:8080/"
        },
        "id": "xZn8937xU02g",
        "outputId": "fbbd32e9-ecef-4a7f-afab-c264cf05ba37"
      },
      "execution_count": null,
      "outputs": [
        {
          "output_type": "execute_result",
          "data": {
            "text/plain": [
              "394.3983128373338"
            ]
          },
          "metadata": {},
          "execution_count": 19
        }
      ]
    },
    {
      "cell_type": "code",
      "source": [
        "for i in range(10,190):\n",
        "  if vkc[i] > threshold:\n",
        "    st = i;\n",
        "    break"
      ],
      "metadata": {
        "id": "8Mjrn0f4U2aP"
      },
      "execution_count": null,
      "outputs": []
    },
    {
      "cell_type": "code",
      "source": [
        "st"
      ],
      "metadata": {
        "colab": {
          "base_uri": "https://localhost:8080/"
        },
        "id": "R2HzVe9mVVfc",
        "outputId": "31441976-c8fc-4747-edb2-e1e91a30df94"
      },
      "execution_count": null,
      "outputs": [
        {
          "output_type": "execute_result",
          "data": {
            "text/plain": [
              "11"
            ]
          },
          "metadata": {},
          "execution_count": 21
        }
      ]
    },
    {
      "cell_type": "code",
      "source": [],
      "metadata": {
        "id": "R-d46GK3VXMA"
      },
      "execution_count": null,
      "outputs": []
    }
  ],
  "metadata": {
    "colab": {
      "provenance": [],
      "toc_visible": true
    },
    "kernelspec": {
      "display_name": "Python 3",
      "name": "python3"
    },
    "language_info": {
      "name": "python"
    }
  },
  "nbformat": 4,
  "nbformat_minor": 0
}